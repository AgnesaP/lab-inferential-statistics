{
 "cells": [
  {
   "cell_type": "code",
   "execution_count": 39,
   "id": "0aaf800a-5197-49d5-9895-1be7fafef2fe",
   "metadata": {},
   "outputs": [],
   "source": [
    "# Importing the library\n",
    "\n",
    "import math as m\n",
    "import scipy.stats as stats\n",
    "import numpy as np"
   ]
  },
  {
   "cell_type": "markdown",
   "id": "71bc4015-1f41-4ecd-a35d-b8106a301c0c",
   "metadata": {},
   "source": [
    "#### 1. It is assumed that the mean systolic blood pressure is μ = 120 mm Hg. In the Honolulu Heart Study, a sample of n = 100 people had an average systolic blood pressure of 130.1 mm Hg with a standard deviation of 21.21 mm Hg. Is the group significantly different (with respect to systolic blood pressure!) from the regular population?\n",
    "#### • Set up the hypothesis test.\n",
    "#### • Write down all the steps followed for setting up the test.\n",
    "#### • Write down all the steps followed for setting up the test.\n",
    "#### • Calculate the test statistic by hand and also code it in Python. It should be 4.76190. We will take a look at how to make decisions based on this calculated value."
   ]
  },
  {
   "cell_type": "code",
   "execution_count": 40,
   "id": "84da926b-1081-4491-9785-355a5caf964a",
   "metadata": {},
   "outputs": [
    {
     "data": {
      "text/plain": [
       "4.761904761904759"
      ]
     },
     "execution_count": 40,
     "metadata": {},
     "output_type": "execute_result"
    }
   ],
   "source": [
    "μ = 120\n",
    "n = 100\n",
    "bp = 130.1\n",
    "std =21.21  #standard deviation\n",
    "df = n-1  #degree of freedom\n",
    "\n",
    "# calculate standard error\n",
    "se = std / np.sqrt(n)\n",
    "\n",
    "# calculate t-stat\n",
    "t1 = abs(bp - μ) / se\n",
    "t1\n"
   ]
  },
  {
   "cell_type": "code",
   "execution_count": 41,
   "id": "0e3dd47f-77a0-4168-a14e-c1f47a6d8593",
   "metadata": {},
   "outputs": [],
   "source": [
    "# Set the hypothesis\n",
    "H = 'Mean of systolic blood pressure is equal to regular population blood pressure'\n"
   ]
  },
  {
   "cell_type": "code",
   "execution_count": 42,
   "id": "7857d40e-21c1-4e56-b28c-a34f494ec152",
   "metadata": {},
   "outputs": [
    {
     "data": {
      "text/plain": [
       "6.562701817092176e-06"
      ]
     },
     "execution_count": 42,
     "metadata": {},
     "output_type": "execute_result"
    }
   ],
   "source": [
    "# Find p-value\n",
    "p = (1 - stats.t.cdf(abs(t1), df)) * 2\n",
    "p"
   ]
  },
  {
   "cell_type": "code",
   "execution_count": 45,
   "id": "f1453920-cd51-4c7f-84e6-8193d166426d",
   "metadata": {},
   "outputs": [
    {
     "data": {
      "text/plain": [
       "1.6603911559963895"
      ]
     },
     "execution_count": 45,
     "metadata": {},
     "output_type": "execute_result"
    }
   ],
   "source": [
    "\n",
    "alpha = 0.05\n",
    "cv = stats.t.ppf(1.0 - alpha, df)  #critical value\n",
    "cv"
   ]
  },
  {
   "cell_type": "code",
   "execution_count": 44,
   "id": "7cf8879e-5254-4717-a93c-5cfb2354efb7",
   "metadata": {},
   "outputs": [
    {
     "name": "stdout",
     "output_type": "stream",
     "text": [
      "Reject: Mean of systolic blood pressure is equal to regular population blood pressure\n"
     ]
    }
   ],
   "source": [
    "#hypothesis test result\n",
    "if abs(t1) <= cv:\n",
    "\tprint(\"Accept: \" + H)\n",
    "else:\n",
    "\tprint(\"Reject: \" + H)"
   ]
  }
 ],
 "metadata": {
  "kernelspec": {
   "display_name": "Python 3 (ipykernel)",
   "language": "python",
   "name": "python3"
  },
  "language_info": {
   "codemirror_mode": {
    "name": "ipython",
    "version": 3
   },
   "file_extension": ".py",
   "mimetype": "text/x-python",
   "name": "python",
   "nbconvert_exporter": "python",
   "pygments_lexer": "ipython3",
   "version": "3.9.12"
  }
 },
 "nbformat": 4,
 "nbformat_minor": 5
}
